In [4]:
hr=int(input("enter the number of hours"))
x=int(input("enter salary"))
try:
    if hr<=40 and hr>0:
        print(x)
    elif hr>40:
        salary=x+(hr-40)*1.5*0.1
        print(salary)
    else:
        raise ValueError
except ValueError:
    print("please enter correct number of hours")
enter the number of hours50
enter salary50000
50001.5
