In [1]:
import math
r=int(input("enter the value of r"))
angle=float(input("enter angle"))
if angle>=360:
    print("angle not possible")
area=(math.pi*r**2)*(angle/360)
print("area is",area)
enter the value of r4
enter angle45
area is 6.283185307179586
