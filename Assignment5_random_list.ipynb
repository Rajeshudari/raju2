In [4]:
import random
l1=[100,1,2,3,30,40,"hai","hello"]
random.shuffle(l1)
print("List after first shuffle:",l1)
List after first shuffle: ['hello', 30, 1, 3, 2, 'hai', 100, 40]
