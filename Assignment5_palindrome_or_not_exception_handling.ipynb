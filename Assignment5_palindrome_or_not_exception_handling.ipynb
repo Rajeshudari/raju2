In [39]:
num=input("enter the number")
try:    
        temp=int(num)
        rev=0
        num1=int(num)
        while(num1>0):
            r=num1%10
            rev=rev*10+r
            num1=num1//10
        if temp==rev:
            print("The number is a palindrome")
        else:
            print("The number is not a palindrome")
except ValueError:
    print("The input is not proper")
enter the numbersam
The input is not proper
