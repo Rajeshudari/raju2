In [2]:
import math
r=int(input("enter radius"))
area=math.pi*r**2
print(area)
enter radius5
78.53981633974483
