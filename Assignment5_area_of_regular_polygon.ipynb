In [2]:
from math import tan, pi
n_sides = int(input("Input number of sides: "))
s_length = float(input("Input the length of a side: "))
p_area = n_sides * (s_length ** 2) / (4 * tan(pi / n_sides))
print("The area of the polygon is: ",p_area)
Input number of sides: 4
Input the length of a side: 20
The area of the polygon is:  400.00000000000006
