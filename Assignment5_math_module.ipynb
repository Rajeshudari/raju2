In [22]:
import math
print(math.sin(math.pi/3))
print(math.cos(math.pi))
print(math.tan(math.pi/2))
print(math.asin(0.8660254037844386))
print(math.pow(5,8))
print(math.sqrt(400))
print(math.pow(5,math.e))
print(math.log(1024)/math.log(2))
print(math.log(1024)/math.log(10))
print(math.floor(23.56),"and",math.ceil(23.56))
0.8660254037844386
-1.0
1.633123935319537e+16
1.0471975511965976
390625.0
20.0
79.43235916621322
10.0
3.0102999566398116
23 and 24
