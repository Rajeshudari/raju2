In [10]:
import random
print(random.randrange(1,10000,50))
3601
